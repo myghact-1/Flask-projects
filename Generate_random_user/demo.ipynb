{
 "metadata": {
  "language_info": {
   "codemirror_mode": {
    "name": "ipython",
    "version": 3
   },
   "file_extension": ".py",
   "mimetype": "text/x-python",
   "name": "python",
   "nbconvert_exporter": "python",
   "pygments_lexer": "ipython3",
   "version": "3.8.8"
  },
  "orig_nbformat": 2,
  "kernelspec": {
   "name": "python388jvsc74a57bd0cf70f3b35e9ffc43db0aa9f385440d8b9f8330cca28098e696ad434588132241",
   "display_name": "Python 3.8.8 64-bit ('base': conda)"
  }
 },
 "nbformat": 4,
 "nbformat_minor": 2,
 "cells": [
  {
   "cell_type": "code",
   "execution_count": 1,
   "metadata": {},
   "outputs": [],
   "source": [
    "import requests\n",
    "import json"
   ]
  },
  {
   "cell_type": "code",
   "execution_count": 38,
   "metadata": {},
   "outputs": [],
   "source": [
    "r = requests.get(\"http://randomuser.me/api/\")"
   ]
  },
  {
   "cell_type": "code",
   "execution_count": 39,
   "metadata": {},
   "outputs": [],
   "source": [
    "res = r.json(encoding='latin')"
   ]
  },
  {
   "cell_type": "code",
   "execution_count": 40,
   "metadata": {},
   "outputs": [
    {
     "output_type": "execute_result",
     "data": {
      "text/plain": [
       "{'results': [{'gender': 'male',\n",
       "   'name': {'title': 'Mr', 'first': 'Elijah', 'last': 'Zhang'},\n",
       "   'location': {'street': {'number': 4482, 'name': 'Lake Road'},\n",
       "    'city': 'Timaru',\n",
       "    'state': 'Tasman',\n",
       "    'country': 'New Zealand',\n",
       "    'postcode': 42574,\n",
       "    'coordinates': {'latitude': '60.4377', 'longitude': '-102.6300'},\n",
       "    'timezone': {'offset': '-7:00',\n",
       "     'description': 'Mountain Time (US & Canada)'}},\n",
       "   'email': 'elijah.zhang@example.com',\n",
       "   'login': {'uuid': '5f277dc5-202a-4c8a-8190-d9ca297bdaae',\n",
       "    'username': 'orangebird877',\n",
       "    'password': 'because',\n",
       "    'salt': 'hbkMYGPr',\n",
       "    'md5': 'de7377bd659c1b21435736bfb30afc4d',\n",
       "    'sha1': 'f2808d1331823cf1e976c89f054434fc89bf2275',\n",
       "    'sha256': '3304ed0bccfa09dfa8fb8e87e3edc0e040eb3de2b5d5600a8e10c8cc819dc575'},\n",
       "   'dob': {'date': '1976-06-24T05:17:58.214Z', 'age': 45},\n",
       "   'registered': {'date': '2015-10-27T17:24:23.310Z', 'age': 6},\n",
       "   'phone': '(164)-786-6915',\n",
       "   'cell': '(541)-936-0004',\n",
       "   'id': {'name': '', 'value': None},\n",
       "   'picture': {'large': 'https://randomuser.me/api/portraits/men/67.jpg',\n",
       "    'medium': 'https://randomuser.me/api/portraits/med/men/67.jpg',\n",
       "    'thumbnail': 'https://randomuser.me/api/portraits/thumb/men/67.jpg'},\n",
       "   'nat': 'NZ'}],\n",
       " 'info': {'seed': '0184250cdd35c019',\n",
       "  'results': 1,\n",
       "  'page': 1,\n",
       "  'version': '1.3'}}"
      ]
     },
     "metadata": {},
     "execution_count": 40
    }
   ],
   "source": [
    "res"
   ]
  },
  {
   "cell_type": "code",
   "execution_count": 41,
   "metadata": {},
   "outputs": [
    {
     "output_type": "execute_result",
     "data": {
      "text/plain": [
       "{'gender': 'male',\n",
       " 'name': {'title': 'Mr', 'first': 'Elijah', 'last': 'Zhang'},\n",
       " 'location': {'street': {'number': 4482, 'name': 'Lake Road'},\n",
       "  'city': 'Timaru',\n",
       "  'state': 'Tasman',\n",
       "  'country': 'New Zealand',\n",
       "  'postcode': 42574,\n",
       "  'coordinates': {'latitude': '60.4377', 'longitude': '-102.6300'},\n",
       "  'timezone': {'offset': '-7:00',\n",
       "   'description': 'Mountain Time (US & Canada)'}},\n",
       " 'email': 'elijah.zhang@example.com',\n",
       " 'login': {'uuid': '5f277dc5-202a-4c8a-8190-d9ca297bdaae',\n",
       "  'username': 'orangebird877',\n",
       "  'password': 'because',\n",
       "  'salt': 'hbkMYGPr',\n",
       "  'md5': 'de7377bd659c1b21435736bfb30afc4d',\n",
       "  'sha1': 'f2808d1331823cf1e976c89f054434fc89bf2275',\n",
       "  'sha256': '3304ed0bccfa09dfa8fb8e87e3edc0e040eb3de2b5d5600a8e10c8cc819dc575'},\n",
       " 'dob': {'date': '1976-06-24T05:17:58.214Z', 'age': 45},\n",
       " 'registered': {'date': '2015-10-27T17:24:23.310Z', 'age': 6},\n",
       " 'phone': '(164)-786-6915',\n",
       " 'cell': '(541)-936-0004',\n",
       " 'id': {'name': '', 'value': None},\n",
       " 'picture': {'large': 'https://randomuser.me/api/portraits/men/67.jpg',\n",
       "  'medium': 'https://randomuser.me/api/portraits/med/men/67.jpg',\n",
       "  'thumbnail': 'https://randomuser.me/api/portraits/thumb/men/67.jpg'},\n",
       " 'nat': 'NZ'}"
      ]
     },
     "metadata": {},
     "execution_count": 41
    }
   ],
   "source": [
    "data = res['results'][0]\n",
    "data"
   ]
  },
  {
   "cell_type": "code",
   "execution_count": 37,
   "metadata": {},
   "outputs": [
    {
     "output_type": "execute_result",
     "data": {
      "text/plain": [
       "'https://randomuser.me/api/portraits/men/49.jpg'"
      ]
     },
     "metadata": {},
     "execution_count": 37
    }
   ],
   "source": [
    "data['picture']['large']"
   ]
  },
  {
   "cell_type": "code",
   "execution_count": null,
   "metadata": {},
   "outputs": [],
   "source": []
  }
 ]
}