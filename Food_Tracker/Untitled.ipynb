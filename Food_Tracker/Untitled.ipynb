{
 "cells": [
  {
   "cell_type": "code",
   "execution_count": 1,
   "id": "f5741b05",
   "metadata": {},
   "outputs": [],
   "source": [
    "import sqlite3\n",
    "import pandas as pd"
   ]
  },
  {
   "cell_type": "code",
   "execution_count": 16,
   "id": "87bc93b1",
   "metadata": {},
   "outputs": [],
   "source": [
    "db = sqlite3.connect('food_log.db')\n",
    "\n",
    "cursor = db.cursor()"
   ]
  },
  {
   "cell_type": "code",
   "execution_count": 17,
   "id": "2fa8ffa7",
   "metadata": {},
   "outputs": [],
   "source": [
    "cursor.executescript('''create table log_date (\n",
    "    id integer primary key autoincrement,\n",
    "    entry_date date not null\n",
    ");\n",
    "\n",
    "create table food (\n",
    "    id integer primary key autoincrement,\n",
    "    food_name text not null,\n",
    "    protein integer not null,\n",
    "    carbohydrates integer not null,\n",
    "    fat integer not null,\n",
    "    calories integer not null\n",
    ");\n",
    "\n",
    "create table food_date (\n",
    "    food_id integer not null,\n",
    "    log_date_id integer not null,\n",
    "    primary key(food_id, log_date_id)\n",
    ");\n",
    "\n",
    "''')\n",
    "db.commit()"
   ]
  },
  {
   "cell_type": "code",
   "execution_count": 19,
   "id": "c39b0432",
   "metadata": {},
   "outputs": [
    {
     "name": "stdout",
     "output_type": "stream",
     "text": [
      "[(1, 1), (3, 1)]\n"
     ]
    }
   ],
   "source": [
    "cursor.execute('''select * from food_date''')\n",
    "results = cursor.fetchall()\n",
    "print(results)"
   ]
  },
  {
   "cell_type": "code",
   "execution_count": 4,
   "id": "f6dd0c05",
   "metadata": {},
   "outputs": [
    {
     "data": {
      "text/html": [
       "<div>\n",
       "<style scoped>\n",
       "    .dataframe tbody tr th:only-of-type {\n",
       "        vertical-align: middle;\n",
       "    }\n",
       "\n",
       "    .dataframe tbody tr th {\n",
       "        vertical-align: top;\n",
       "    }\n",
       "\n",
       "    .dataframe thead th {\n",
       "        text-align: right;\n",
       "    }\n",
       "</style>\n",
       "<table border=\"1\" class=\"dataframe\">\n",
       "  <thead>\n",
       "    <tr style=\"text-align: right;\">\n",
       "      <th></th>\n",
       "      <th>0</th>\n",
       "    </tr>\n",
       "  </thead>\n",
       "  <tbody>\n",
       "    <tr>\n",
       "      <th>0</th>\n",
       "      <td>May 11, 2021</td>\n",
       "    </tr>\n",
       "  </tbody>\n",
       "</table>\n",
       "</div>"
      ],
      "text/plain": [
       "              0\n",
       "0  May 11, 2021"
      ]
     },
     "execution_count": 4,
     "metadata": {},
     "output_type": "execute_result"
    }
   ],
   "source": [
    "pd.DataFrame(results)"
   ]
  },
  {
   "cell_type": "code",
   "execution_count": 13,
   "id": "a7e0a810",
   "metadata": {},
   "outputs": [],
   "source": [
    "cursor.execute('''delete from food_date''')\n",
    "db.commit()"
   ]
  },
  {
   "cell_type": "code",
   "execution_count": 84,
   "id": "eeb40359",
   "metadata": {},
   "outputs": [],
   "source": [
    "from datetime import datetime"
   ]
  },
  {
   "cell_type": "code",
   "execution_count": 85,
   "id": "48e9acec",
   "metadata": {},
   "outputs": [
    {
     "data": {
      "text/plain": [
       "datetime.datetime(2017, 2, 1, 0, 0)"
      ]
     },
     "execution_count": 85,
     "metadata": {},
     "output_type": "execute_result"
    }
   ],
   "source": [
    "db_date = datetime.strptime('2017-02-01','%Y-%m-%d')\n",
    "db_date"
   ]
  },
  {
   "cell_type": "code",
   "execution_count": 89,
   "id": "ea2ab1c1",
   "metadata": {},
   "outputs": [
    {
     "data": {
      "text/plain": [
       "'February 01,2017'"
      ]
     },
     "execution_count": 89,
     "metadata": {},
     "output_type": "execute_result"
    }
   ],
   "source": [
    "db_date.strftime('%B %d,%Y')"
   ]
  },
  {
   "cell_type": "code",
   "execution_count": null,
   "id": "c9c15115",
   "metadata": {},
   "outputs": [],
   "source": []
  },
  {
   "cell_type": "code",
   "execution_count": 20,
   "id": "b3161c29",
   "metadata": {},
   "outputs": [],
   "source": [
    "cursor.close()\n",
    "db.close()"
   ]
  },
  {
   "cell_type": "code",
   "execution_count": null,
   "id": "38e6415b",
   "metadata": {},
   "outputs": [],
   "source": []
  }
 ],
 "metadata": {
  "kernelspec": {
   "display_name": "Python 3",
   "language": "python",
   "name": "python3"
  },
  "language_info": {
   "codemirror_mode": {
    "name": "ipython",
    "version": 3
   },
   "file_extension": ".py",
   "mimetype": "text/x-python",
   "name": "python",
   "nbconvert_exporter": "python",
   "pygments_lexer": "ipython3",
   "version": "3.8.3"
  }
 },
 "nbformat": 4,
 "nbformat_minor": 5
}
