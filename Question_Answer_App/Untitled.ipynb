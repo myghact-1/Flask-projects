{
 "cells": [
  {
   "cell_type": "code",
   "execution_count": 1,
   "id": "b87424da",
   "metadata": {},
   "outputs": [],
   "source": [
    "import sqlite3\n",
    "import pandas as pd"
   ]
  },
  {
   "cell_type": "code",
   "execution_count": 2,
   "id": "795af3f1",
   "metadata": {},
   "outputs": [],
   "source": [
    "db = sqlite3.connect('questions.db')\n",
    "cursor = db.cursor()"
   ]
  },
  {
   "cell_type": "code",
   "execution_count": 3,
   "id": "bcda0062",
   "metadata": {},
   "outputs": [],
   "source": [
    "cursor.executescript('''create table users(\n",
    "    id integer primary key autoincrement,\n",
    "    name text not null,\n",
    "    password text not null,\n",
    "    expert boolean not null,\n",
    "    admin boolean not null\n",
    ");\n",
    "\n",
    "create table questions (\n",
    "    id integer primary key autoincrement,\n",
    "    question_text text not null,\n",
    "    answer_text text,\n",
    "    asked_by_id integer not null,\n",
    "    expert_id integer not null\n",
    ");\n",
    "\n",
    "''')\n",
    "db.commit()"
   ]
  },
  {
   "cell_type": "code",
   "execution_count": 5,
   "id": "6ff5e011",
   "metadata": {},
   "outputs": [
    {
     "name": "stdout",
     "output_type": "stream",
     "text": [
      "[(1, 'admin', 'sha256$AHaVE2QP$e1bab2b6fc37b8637751c0ad541dc70787c367c1ff0584c02641d117e22eb2cf', 0, 0)]\n"
     ]
    }
   ],
   "source": [
    "cursor.execute('''select * from users''')\n",
    "results = cursor.fetchall()\n",
    "print(results)"
   ]
  },
  {
   "cell_type": "code",
   "execution_count": 7,
   "id": "a804c93f",
   "metadata": {},
   "outputs": [
    {
     "name": "stdout",
     "output_type": "stream",
     "text": [
      "[(1, 'admin', 'sha256$AHaVE2QP$e1bab2b6fc37b8637751c0ad541dc70787c367c1ff0584c02641d117e22eb2cf', 0, 1)]\n"
     ]
    }
   ],
   "source": [
    "db.execute('''update users set admin = '1' where id =1''')\n",
    "db.commit()\n",
    "cursor.execute('''select * from users''')\n",
    "results = cursor.fetchall()\n",
    "print(results)"
   ]
  },
  {
   "cell_type": "code",
   "execution_count": null,
   "id": "f38dd368",
   "metadata": {},
   "outputs": [],
   "source": []
  }
 ],
 "metadata": {
  "kernelspec": {
   "display_name": "Python 3",
   "language": "python",
   "name": "python3"
  },
  "language_info": {
   "codemirror_mode": {
    "name": "ipython",
    "version": 3
   },
   "file_extension": ".py",
   "mimetype": "text/x-python",
   "name": "python",
   "nbconvert_exporter": "python",
   "pygments_lexer": "ipython3",
   "version": "3.8.3"
  }
 },
 "nbformat": 4,
 "nbformat_minor": 5
}
